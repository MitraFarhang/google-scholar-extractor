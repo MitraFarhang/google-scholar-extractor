{
 "cells": [
  {
   "cell_type": "code",
   "execution_count": 18,
   "id": "8eb9d5bf-051b-47f2-b5de-c20f6756d929",
   "metadata": {},
   "outputs": [
    {
     "name": "stdin",
     "output_type": "stream",
     "text": [
      "what you want to search? label:lithium_ion_battery\n"
     ]
    },
    {
     "name": "stdout",
     "output_type": "stream",
     "text": [
      "{'Name': 'Xiang Sun', 'University': 'Rensselaer Polytechnic Institute'}\n",
      "{'Name': 'Atsuo Yamada', 'University': 'The University of Tokyo'}\n",
      "{'Name': 'Lijie Ci,', 'University': 'Shandong University, PRChina'}\n",
      "{'Name': 'Geping Yin', 'University': 'Professor, Harbin Institute of Technology'}\n",
      "{'Name': 'Xiuwan Li', 'University': 'School of Physics Science and Technology, and Key Laboratory for Magnetism and\\xa0…'}\n",
      "{'Name': 'Shichun Mu', 'University': 'Wuhan University of Technology'}\n",
      "{'Name': 'Loic Dupont', 'University': 'Laboratoire de Réactivité et de Chimie des Solides'}\n",
      "{'Name': 'Prashant Kumta', 'University': 'Edward R. Weidlein Chair Professor of Swanson school of Engineering, University of\\xa0…'}\n",
      "{'Name': 'Devendra Sadana', 'University': 'ibm'}\n",
      "{'Name': 'Wei Wang', 'University': 'Laboratory Fellow at Pacific Northwest National Laboratory'}\n"
     ]
    }
   ],
   "source": [
    "import requests\n",
    "from bs4 import BeautifulSoup\n",
    "import pandas as pd\n",
    "import time\n",
    "\n",
    "\n",
    "def extract_data(card):\n",
    "    try:\n",
    "        name = card.find('h3', class_='gs_ai_name').text.strip()\n",
    "    except AttributeError:\n",
    "        name = ''\n",
    "\n",
    "    try:\n",
    "        university = card.find('div', class_='gs_ai_aff').text.strip()\n",
    "    except AttributeError:\n",
    "        university = ''\n",
    "\n",
    "    return {'Name': name, 'University': university}\n",
    "\n",
    "def scrape_scholar_data(query, max_results=100):\n",
    "    data = []\n",
    "    start = 0\n",
    "\n",
    "    while len(data) < max_results:\n",
    "        url = f'https://scholar.google.com/citations?view_op=search_authors&hl=en&mauthors={query}&astart={start}'\n",
    "        headers = {'User-Agent': 'Mozilla/5.0 (Windows NT 10.0; Win64; x64) AppleWebKit/537.36 (KHTML, like Gecko) Chrome/91.0.4472.124 Safari/537.36'}\n",
    "        response = requests.get(url, headers=headers)\n",
    "        \n",
    "        soup = BeautifulSoup(response.text, 'html.parser')\n",
    "\n",
    "        # Check for captchas or errors\n",
    "        if 'captcha-form' in response.text:\n",
    "            print(\"Captcha encountered. Exiting.\")\n",
    "            break\n",
    "\n",
    "        cards = soup.find_all('div', class_='gs_ai_t')\n",
    "        if not cards:\n",
    "            print(\"No more results. Exiting.\")\n",
    "            break\n",
    "\n",
    "        for card in cards:\n",
    "            author_data = extract_data(card)\n",
    "            data.append(author_data)\n",
    "            print(author_data)  # Print extracted data\n",
    "\n",
    "        start += 10\n",
    "\n",
    "        # Introduce a delay to avoid rate limiting\n",
    "        time.sleep(2)\n",
    "\n",
    "    return data[:max_results]\n",
    "\n",
    "query = input('what label you want to search in google scholar?')\n",
    "#example:'label:lithium_ion_battery'\n",
    "max_results =5  # Set a small number for testing\n",
    "data = scrape_scholar_data(query, max_results)\n",
    "\n",
    "# Create a DataFrame from the collected data\n",
    "df = pd.DataFrame(data)\n",
    "\n",
    "# Save the data to an Excel file\n",
    "df.to_excel('scholar_data.xlsx', index=False)\n"
   ]
  },
  {
   "cell_type": "code",
   "execution_count": null,
   "id": "e36f6e45-ebf6-4314-bec2-517459493919",
   "metadata": {},
   "outputs": [],
   "source": []
  }
 ],
 "metadata": {
  "kernelspec": {
   "display_name": "Python 3 (ipykernel)",
   "language": "python",
   "name": "python3"
  },
  "language_info": {
   "codemirror_mode": {
    "name": "ipython",
    "version": 3
   },
   "file_extension": ".py",
   "mimetype": "text/x-python",
   "name": "python",
   "nbconvert_exporter": "python",
   "pygments_lexer": "ipython3",
   "version": "3.12.0"
  }
 },
 "nbformat": 4,
 "nbformat_minor": 5
}
